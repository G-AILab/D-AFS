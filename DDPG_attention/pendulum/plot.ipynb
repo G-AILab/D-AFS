{
 "metadata": {
  "language_info": {
   "codemirror_mode": {
    "name": "ipython",
    "version": 3
   },
   "file_extension": ".py",
   "mimetype": "text/x-python",
   "name": "python",
   "nbconvert_exporter": "python",
   "pygments_lexer": "ipython3",
   "version": "3.6.9"
  },
  "orig_nbformat": 2,
  "kernelspec": {
   "name": "python3",
   "display_name": "Python 3.6.9 64-bit",
   "metadata": {
    "interpreter": {
     "hash": "31f2aee4e71d21fbe5cf8b01ff0e069b9275f58929596ceb00d14d90e3e16cd6"
    }
   }
  }
 },
 "nbformat": 4,
 "nbformat_minor": 2,
 "cells": [
  {
   "cell_type": "code",
   "execution_count": 1,
   "metadata": {},
   "outputs": [],
   "source": [
    "import numpy as np\n",
    "import pandas as pd"
   ]
  },
  {
   "cell_type": "code",
   "execution_count": 2,
   "metadata": {},
   "outputs": [
    {
     "output_type": "execute_result",
     "data": {
      "text/plain": [
       "         0         1         2         3         4         5         6    \\\n",
       "a1  0.554535  0.584513  0.601320  0.612789  0.625224  0.631339  0.638780   \n",
       "a2  0.495574  0.522969  0.575242  0.597753  0.617669  0.646031  0.683817   \n",
       "a3  0.495285  0.489221  0.500499  0.504052  0.503106  0.504177  0.506131   \n",
       "a4  0.469395  0.403181  0.415432  0.432200  0.447546  0.461057  0.460138   \n",
       "a5  0.476407  0.493265  0.483303  0.478924  0.472721  0.451113  0.438340   \n",
       "a6  0.522255  0.505143  0.463196  0.457974  0.450775  0.432423  0.421315   \n",
       "\n",
       "         7         8         9    ...       190       191       192       193  \\\n",
       "a1  0.644632  0.650431  0.656338  ...  0.775083  0.777370  0.780792  0.787307   \n",
       "a2  0.717361  0.742514  0.764560  ...  0.954460  0.954231  0.955535  0.957379   \n",
       "a3  0.507194  0.506442  0.505625  ...  0.529568  0.530904  0.532872  0.536229   \n",
       "a4  0.462329  0.464946  0.464341  ...  0.283115  0.282352  0.281179  0.280318   \n",
       "a5  0.418572  0.405381  0.401608  ...  0.002858  0.003087  0.003424  0.003882   \n",
       "a6  0.407189  0.387598  0.374866  ...  0.005140  0.005062  0.005400  0.006374   \n",
       "\n",
       "         194       195       196       197       198       199  \n",
       "a1  0.784663  0.783674  0.787246  0.787178  0.791815  0.790613  \n",
       "a2  0.955264  0.954160  0.955181  0.954152  0.954713  0.954622  \n",
       "a3  0.533596  0.533072  0.532609  0.528974  0.528018  0.526113  \n",
       "a4  0.282744  0.280822  0.278019  0.278765  0.278632  0.280340  \n",
       "a5  0.004533  0.004723  0.005411  0.004516  0.004294  0.004011  \n",
       "a6  0.006493  0.005907  0.006456  0.005927  0.005391  0.005085  \n",
       "\n",
       "[6 rows x 200 columns]"
      ],
      "text/html": "<div>\n<style scoped>\n    .dataframe tbody tr th:only-of-type {\n        vertical-align: middle;\n    }\n\n    .dataframe tbody tr th {\n        vertical-align: top;\n    }\n\n    .dataframe thead th {\n        text-align: right;\n    }\n</style>\n<table border=\"1\" class=\"dataframe\">\n  <thead>\n    <tr style=\"text-align: right;\">\n      <th></th>\n      <th>0</th>\n      <th>1</th>\n      <th>2</th>\n      <th>3</th>\n      <th>4</th>\n      <th>5</th>\n      <th>6</th>\n      <th>7</th>\n      <th>8</th>\n      <th>9</th>\n      <th>...</th>\n      <th>190</th>\n      <th>191</th>\n      <th>192</th>\n      <th>193</th>\n      <th>194</th>\n      <th>195</th>\n      <th>196</th>\n      <th>197</th>\n      <th>198</th>\n      <th>199</th>\n    </tr>\n  </thead>\n  <tbody>\n    <tr>\n      <th>a1</th>\n      <td>0.554535</td>\n      <td>0.584513</td>\n      <td>0.601320</td>\n      <td>0.612789</td>\n      <td>0.625224</td>\n      <td>0.631339</td>\n      <td>0.638780</td>\n      <td>0.644632</td>\n      <td>0.650431</td>\n      <td>0.656338</td>\n      <td>...</td>\n      <td>0.775083</td>\n      <td>0.777370</td>\n      <td>0.780792</td>\n      <td>0.787307</td>\n      <td>0.784663</td>\n      <td>0.783674</td>\n      <td>0.787246</td>\n      <td>0.787178</td>\n      <td>0.791815</td>\n      <td>0.790613</td>\n    </tr>\n    <tr>\n      <th>a2</th>\n      <td>0.495574</td>\n      <td>0.522969</td>\n      <td>0.575242</td>\n      <td>0.597753</td>\n      <td>0.617669</td>\n      <td>0.646031</td>\n      <td>0.683817</td>\n      <td>0.717361</td>\n      <td>0.742514</td>\n      <td>0.764560</td>\n      <td>...</td>\n      <td>0.954460</td>\n      <td>0.954231</td>\n      <td>0.955535</td>\n      <td>0.957379</td>\n      <td>0.955264</td>\n      <td>0.954160</td>\n      <td>0.955181</td>\n      <td>0.954152</td>\n      <td>0.954713</td>\n      <td>0.954622</td>\n    </tr>\n    <tr>\n      <th>a3</th>\n      <td>0.495285</td>\n      <td>0.489221</td>\n      <td>0.500499</td>\n      <td>0.504052</td>\n      <td>0.503106</td>\n      <td>0.504177</td>\n      <td>0.506131</td>\n      <td>0.507194</td>\n      <td>0.506442</td>\n      <td>0.505625</td>\n      <td>...</td>\n      <td>0.529568</td>\n      <td>0.530904</td>\n      <td>0.532872</td>\n      <td>0.536229</td>\n      <td>0.533596</td>\n      <td>0.533072</td>\n      <td>0.532609</td>\n      <td>0.528974</td>\n      <td>0.528018</td>\n      <td>0.526113</td>\n    </tr>\n    <tr>\n      <th>a4</th>\n      <td>0.469395</td>\n      <td>0.403181</td>\n      <td>0.415432</td>\n      <td>0.432200</td>\n      <td>0.447546</td>\n      <td>0.461057</td>\n      <td>0.460138</td>\n      <td>0.462329</td>\n      <td>0.464946</td>\n      <td>0.464341</td>\n      <td>...</td>\n      <td>0.283115</td>\n      <td>0.282352</td>\n      <td>0.281179</td>\n      <td>0.280318</td>\n      <td>0.282744</td>\n      <td>0.280822</td>\n      <td>0.278019</td>\n      <td>0.278765</td>\n      <td>0.278632</td>\n      <td>0.280340</td>\n    </tr>\n    <tr>\n      <th>a5</th>\n      <td>0.476407</td>\n      <td>0.493265</td>\n      <td>0.483303</td>\n      <td>0.478924</td>\n      <td>0.472721</td>\n      <td>0.451113</td>\n      <td>0.438340</td>\n      <td>0.418572</td>\n      <td>0.405381</td>\n      <td>0.401608</td>\n      <td>...</td>\n      <td>0.002858</td>\n      <td>0.003087</td>\n      <td>0.003424</td>\n      <td>0.003882</td>\n      <td>0.004533</td>\n      <td>0.004723</td>\n      <td>0.005411</td>\n      <td>0.004516</td>\n      <td>0.004294</td>\n      <td>0.004011</td>\n    </tr>\n    <tr>\n      <th>a6</th>\n      <td>0.522255</td>\n      <td>0.505143</td>\n      <td>0.463196</td>\n      <td>0.457974</td>\n      <td>0.450775</td>\n      <td>0.432423</td>\n      <td>0.421315</td>\n      <td>0.407189</td>\n      <td>0.387598</td>\n      <td>0.374866</td>\n      <td>...</td>\n      <td>0.005140</td>\n      <td>0.005062</td>\n      <td>0.005400</td>\n      <td>0.006374</td>\n      <td>0.006493</td>\n      <td>0.005907</td>\n      <td>0.006456</td>\n      <td>0.005927</td>\n      <td>0.005391</td>\n      <td>0.005085</td>\n    </tr>\n  </tbody>\n</table>\n<p>6 rows × 200 columns</p>\n</div>"
     },
     "metadata": {},
     "execution_count": 2
    }
   ],
   "source": [
    "weight = pd.read_csv('attention_weights.csv')\n",
    "weight = weight.T\n",
    "weight"
   ]
  },
  {
   "cell_type": "code",
   "execution_count": 3,
   "metadata": {},
   "outputs": [
    {
     "output_type": "execute_result",
     "data": {
      "text/plain": [
       "           0                                                 5            \\\n",
       "a1  0.554535  0.584513  0.601320  0.612789  0.625224  0.631339  0.638780   \n",
       "a2  0.495574  0.522969  0.575242  0.597753  0.617669  0.646031  0.683817   \n",
       "a3  0.495285  0.489221  0.500499  0.504052  0.503106  0.504177  0.506131   \n",
       "a4  0.469395  0.403181  0.415432  0.432200  0.447546  0.461057  0.460138   \n",
       "a5  0.476407  0.493265  0.483303  0.478924  0.472721  0.451113  0.438340   \n",
       "a6  0.522255  0.505143  0.463196  0.457974  0.450775  0.432423  0.421315   \n",
       "\n",
       "                                  ...                                          \\\n",
       "a1  0.644632  0.650431  0.656338  ...  0.683873  0.683399  0.691892  0.692393   \n",
       "a2  0.717361  0.742514  0.764560  ...  0.935174  0.934701  0.941248  0.941649   \n",
       "a3  0.507194  0.506442  0.505625  ...  0.510650  0.512230  0.516959  0.517763   \n",
       "a4  0.462329  0.464946  0.464341  ...  0.374627  0.373210  0.367839  0.368158   \n",
       "a5  0.418572  0.405381  0.401608  ...  0.005596  0.005595  0.005185  0.005157   \n",
       "a6  0.407189  0.387598  0.374866  ...  0.009482  0.009370  0.008836  0.008825   \n",
       "\n",
       "          95                                               100  \n",
       "a1  0.695128  0.696693  0.694210  0.697936  0.696004  0.697144  \n",
       "a2  0.943156  0.943915  0.944471  0.949509  0.949439  0.950460  \n",
       "a3  0.518376  0.520414  0.521312  0.525688  0.524733  0.525670  \n",
       "a4  0.366565  0.366412  0.367990  0.363903  0.364637  0.362136  \n",
       "a5  0.005021  0.005179  0.005330  0.005066  0.004984  0.004790  \n",
       "a6  0.008560  0.008444  0.008390  0.008017  0.007765  0.007830  \n",
       "\n",
       "[6 rows x 101 columns]"
      ],
      "text/html": "<div>\n<style scoped>\n    .dataframe tbody tr th:only-of-type {\n        vertical-align: middle;\n    }\n\n    .dataframe tbody tr th {\n        vertical-align: top;\n    }\n\n    .dataframe thead th {\n        text-align: right;\n    }\n</style>\n<table border=\"1\" class=\"dataframe\">\n  <thead>\n    <tr style=\"text-align: right;\">\n      <th></th>\n      <th>0</th>\n      <th></th>\n      <th></th>\n      <th></th>\n      <th></th>\n      <th>5</th>\n      <th></th>\n      <th></th>\n      <th></th>\n      <th></th>\n      <th>...</th>\n      <th></th>\n      <th></th>\n      <th></th>\n      <th></th>\n      <th>95</th>\n      <th></th>\n      <th></th>\n      <th></th>\n      <th></th>\n      <th>100</th>\n    </tr>\n  </thead>\n  <tbody>\n    <tr>\n      <th>a1</th>\n      <td>0.554535</td>\n      <td>0.584513</td>\n      <td>0.601320</td>\n      <td>0.612789</td>\n      <td>0.625224</td>\n      <td>0.631339</td>\n      <td>0.638780</td>\n      <td>0.644632</td>\n      <td>0.650431</td>\n      <td>0.656338</td>\n      <td>...</td>\n      <td>0.683873</td>\n      <td>0.683399</td>\n      <td>0.691892</td>\n      <td>0.692393</td>\n      <td>0.695128</td>\n      <td>0.696693</td>\n      <td>0.694210</td>\n      <td>0.697936</td>\n      <td>0.696004</td>\n      <td>0.697144</td>\n    </tr>\n    <tr>\n      <th>a2</th>\n      <td>0.495574</td>\n      <td>0.522969</td>\n      <td>0.575242</td>\n      <td>0.597753</td>\n      <td>0.617669</td>\n      <td>0.646031</td>\n      <td>0.683817</td>\n      <td>0.717361</td>\n      <td>0.742514</td>\n      <td>0.764560</td>\n      <td>...</td>\n      <td>0.935174</td>\n      <td>0.934701</td>\n      <td>0.941248</td>\n      <td>0.941649</td>\n      <td>0.943156</td>\n      <td>0.943915</td>\n      <td>0.944471</td>\n      <td>0.949509</td>\n      <td>0.949439</td>\n      <td>0.950460</td>\n    </tr>\n    <tr>\n      <th>a3</th>\n      <td>0.495285</td>\n      <td>0.489221</td>\n      <td>0.500499</td>\n      <td>0.504052</td>\n      <td>0.503106</td>\n      <td>0.504177</td>\n      <td>0.506131</td>\n      <td>0.507194</td>\n      <td>0.506442</td>\n      <td>0.505625</td>\n      <td>...</td>\n      <td>0.510650</td>\n      <td>0.512230</td>\n      <td>0.516959</td>\n      <td>0.517763</td>\n      <td>0.518376</td>\n      <td>0.520414</td>\n      <td>0.521312</td>\n      <td>0.525688</td>\n      <td>0.524733</td>\n      <td>0.525670</td>\n    </tr>\n    <tr>\n      <th>a4</th>\n      <td>0.469395</td>\n      <td>0.403181</td>\n      <td>0.415432</td>\n      <td>0.432200</td>\n      <td>0.447546</td>\n      <td>0.461057</td>\n      <td>0.460138</td>\n      <td>0.462329</td>\n      <td>0.464946</td>\n      <td>0.464341</td>\n      <td>...</td>\n      <td>0.374627</td>\n      <td>0.373210</td>\n      <td>0.367839</td>\n      <td>0.368158</td>\n      <td>0.366565</td>\n      <td>0.366412</td>\n      <td>0.367990</td>\n      <td>0.363903</td>\n      <td>0.364637</td>\n      <td>0.362136</td>\n    </tr>\n    <tr>\n      <th>a5</th>\n      <td>0.476407</td>\n      <td>0.493265</td>\n      <td>0.483303</td>\n      <td>0.478924</td>\n      <td>0.472721</td>\n      <td>0.451113</td>\n      <td>0.438340</td>\n      <td>0.418572</td>\n      <td>0.405381</td>\n      <td>0.401608</td>\n      <td>...</td>\n      <td>0.005596</td>\n      <td>0.005595</td>\n      <td>0.005185</td>\n      <td>0.005157</td>\n      <td>0.005021</td>\n      <td>0.005179</td>\n      <td>0.005330</td>\n      <td>0.005066</td>\n      <td>0.004984</td>\n      <td>0.004790</td>\n    </tr>\n    <tr>\n      <th>a6</th>\n      <td>0.522255</td>\n      <td>0.505143</td>\n      <td>0.463196</td>\n      <td>0.457974</td>\n      <td>0.450775</td>\n      <td>0.432423</td>\n      <td>0.421315</td>\n      <td>0.407189</td>\n      <td>0.387598</td>\n      <td>0.374866</td>\n      <td>...</td>\n      <td>0.009482</td>\n      <td>0.009370</td>\n      <td>0.008836</td>\n      <td>0.008825</td>\n      <td>0.008560</td>\n      <td>0.008444</td>\n      <td>0.008390</td>\n      <td>0.008017</td>\n      <td>0.007765</td>\n      <td>0.007830</td>\n    </tr>\n  </tbody>\n</table>\n<p>6 rows × 101 columns</p>\n</div>"
     },
     "metadata": {},
     "execution_count": 3
    }
   ],
   "source": [
    "weight = weight.iloc[:6,:101]\n",
    "\n",
    "for i in range(101):\n",
    "    if (i%5!=0):\n",
    "        weight.rename(columns={weight.columns[i]:''}, inplace=True)\n",
    "\n",
    "weight"
   ]
  },
  {
   "cell_type": "code",
   "execution_count": 4,
   "metadata": {},
   "outputs": [
    {
     "output_type": "display_data",
     "data": {
      "text/plain": "<matplotlib.figure.Figure at 0x7f92703537f0>"
     },
     "metadata": {}
    }
   ],
   "source": [
    "from matplotlib import pyplot as plt\n",
    "import matplotlib.ticker as ticker\n",
    "import seaborn as sns\n",
    "# import palettable\n",
    "plt.figure(dpi=1200, figsize=(6, 2.2))\n",
    "sns.heatmap(\n",
    "    data=weight,\n",
    "    cmap=plt.get_cmap('PuBu'),\n",
    "    vmin=0.0,\n",
    "    vmax=1.0,\n",
    "    linewidths=0.001,\n",
    "    yticklabels=[r'cos$\\theta$', r'sin$\\theta$', r'$\\omega$', r'$\\theta$', 'pran', 'ran'],\n",
    "    cbar_kws={'label': 'weight'}\n",
    "\n",
    ")\n",
    "plt.xlabel('Episodes')\n",
    "plt.ylabel('Inputs')\n",
    "plt.xticks(fontsize=8)\n",
    "plt.yticks(fontsize=8)\n",
    "plt.savefig('weight.png', bbox_inches = 'tight')\n",
    "plt.show()\n"
   ]
  },
  {
   "cell_type": "code",
   "execution_count": 5,
   "metadata": {},
   "outputs": [
    {
     "output_type": "display_data",
     "data": {
      "text/plain": "interactive(children=(Dropdown(description='name', options=('Greys', 'Reds', 'Greens', 'Blues', 'Oranges', 'Pu…",
      "application/vnd.jupyter.widget-view+json": {
       "version_major": 2,
       "version_minor": 0,
       "model_id": "d0adeb8b88064669856acf5f6d5abeb9"
      }
     },
     "metadata": {}
    },
    {
     "output_type": "execute_result",
     "data": {
      "text/plain": [
       "[(0.9575547866205305, 0.9575547866205305, 0.9575547866205305),\n",
       " (0.9012072279892349, 0.9012072279892349, 0.9012072279892349),\n",
       " (0.8328950403690888, 0.8328950403690888, 0.8328950403690888),\n",
       " (0.7502191464821223, 0.7502191464821223, 0.7502191464821223),\n",
       " (0.6434140715109573, 0.6434140715109573, 0.6434140715109573),\n",
       " (0.5387158785082661, 0.5387158785082661, 0.5387158785082661),\n",
       " (0.440322952710496, 0.440322952710496, 0.440322952710496),\n",
       " (0.342883506343714, 0.342883506343714, 0.342883506343714),\n",
       " (0.22329873125720878, 0.22329873125720878, 0.22329873125720878),\n",
       " (0.10469819300269129, 0.10469819300269129, 0.10469819300269129)]"
      ]
     },
     "metadata": {},
     "execution_count": 5
    }
   ],
   "source": [
    "sns.choose_colorbrewer_palette('sequential')"
   ]
  },
  {
   "cell_type": "code",
   "execution_count": null,
   "metadata": {},
   "outputs": [],
   "source": []
  }
 ]
}